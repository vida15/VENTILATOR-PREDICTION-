{
  "metadata": {
    "kernelspec": {
      "language": "python",
      "display_name": "Python 3",
      "name": "python3"
    },
    "language_info": {
      "name": "python",
      "version": "3.7.10",
      "mimetype": "text/x-python",
      "codemirror_mode": {
        "name": "ipython",
        "version": 3
      },
      "pygments_lexer": "ipython3",
      "nbconvert_exporter": "python",
      "file_extension": ".py"
    },
    "colab": {
      "provenance": []
    },
    "accelerator": "TPU"
  },
  "nbformat_minor": 0,
  "nbformat": 4,
  "cells": [
    {
      "cell_type": "markdown",
      "source": [
        "Reference Notebooks:\n"
      ],
      "metadata": {
        "id": "FynoktqyPXau"
      }
    },
    {
      "cell_type": "markdown",
      "source": [
        "## Import libraries"
      ],
      "metadata": {
        "papermill": {
          "duration": 0.016249,
          "end_time": "2021-10-02T10:01:32.887198",
          "exception": false,
          "start_time": "2021-10-02T10:01:32.870949",
          "status": "completed"
        },
        "tags": [],
        "id": "1z6VYNsvPXa9"
      }
    },
    {
      "cell_type": "code",
      "source": [
        "import gc\n",
        "import numpy as np\n",
        "import pandas as pd\n",
        "from sklearn.model_selection import KFold\n",
        "from sklearn.preprocessing import RobustScaler\n",
        "from sklearn.metrics import mean_absolute_error\n",
        "\n",
        "import tensorflow as tf\n",
        "from tensorflow.keras.utils import plot_model\n",
        "from tensorflow.keras.models import Model, load_model\n",
        "from tensorflow.keras.callbacks import EarlyStopping\n",
        "from tensorflow.keras.callbacks import ModelCheckpoint\n",
        "from tensorflow.keras.callbacks import ReduceLROnPlateau\n",
        "from tensorflow.keras.layers import Bidirectional, LSTM, Conv1D\n",
        "from tensorflow.keras.layers import Dense, Dropout, Input\n",
        "from tensorflow.keras.layers import Concatenate, Add, GRU\n",
        "\n",
        "np.random.seed(42)\n",
        "tf.random.set_seed(42)"
      ],
      "metadata": {
        "_cell_guid": "3e5a0bd1-3e22-4b2c-a565-68985e55f95e",
        "_uuid": "e331dbcc-0346-4019-9ff6-b890154a878b",
        "jupyter": {
          "outputs_hidden": false
        },
        "papermill": {
          "duration": 5.912325,
          "end_time": "2021-10-02T10:01:38.814556",
          "exception": false,
          "start_time": "2021-10-02T10:01:32.902231",
          "status": "completed"
        },
        "tags": [],
        "execution": {
          "iopub.status.busy": "2021-10-21T10:51:31.092445Z",
          "iopub.execute_input": "2021-10-21T10:51:31.093256Z",
          "iopub.status.idle": "2021-10-21T10:51:37.597242Z",
          "shell.execute_reply.started": "2021-10-21T10:51:31.093130Z",
          "shell.execute_reply": "2021-10-21T10:51:37.596298Z"
        },
        "trusted": true,
        "id": "_S3PkfBWPXbD"
      },
      "execution_count": null,
      "outputs": []
    },
    {
      "cell_type": "code",
      "source": [
        "from google.colab import drive\n",
        "drive.mount('/content/drive')"
      ],
      "metadata": {
        "colab": {
          "base_uri": "https://localhost:8080/"
        },
        "id": "99KkgSJcQPjK",
        "outputId": "23e9da35-6699-4eea-a938-e4a93e7c83db"
      },
      "execution_count": null,
      "outputs": [
        {
          "output_type": "stream",
          "name": "stdout",
          "text": [
            "Drive already mounted at /content/drive; to attempt to forcibly remount, call drive.mount(\"/content/drive\", force_remount=True).\n"
          ]
        }
      ]
    },
    {
      "cell_type": "markdown",
      "source": [
        "## Load source datasets"
      ],
      "metadata": {
        "papermill": {
          "duration": 0.014712,
          "end_time": "2021-10-02T10:01:38.845382",
          "exception": false,
          "start_time": "2021-10-02T10:01:38.83067",
          "status": "completed"
        },
        "tags": [],
        "id": "jloFsYMCPXbS"
      }
    },
    {
      "cell_type": "code",
      "source": [
        "train_df = pd.read_csv('/content/drive/MyDrive/IOT+AI : SRM - NITW/Google Ventilator Predictor/Data/train.csv')\n",
        "print(f\"train_df: {train_df.shape}\")\n",
        "train_df.head()"
      ],
      "metadata": {
        "_cell_guid": "89eb257e-0ed2-4f8b-94d6-462a5e995eb1",
        "_uuid": "ca71d87d-6594-4f31-906d-0b53cd4c1374",
        "jupyter": {
          "outputs_hidden": false
        },
        "papermill": {
          "duration": 10.663035,
          "end_time": "2021-10-02T10:01:49.523448",
          "exception": false,
          "start_time": "2021-10-02T10:01:38.860413",
          "status": "completed"
        },
        "tags": [],
        "execution": {
          "iopub.status.busy": "2021-10-21T10:51:37.599146Z",
          "iopub.execute_input": "2021-10-21T10:51:37.599444Z",
          "iopub.status.idle": "2021-10-21T10:51:46.119928Z",
          "shell.execute_reply.started": "2021-10-21T10:51:37.599406Z",
          "shell.execute_reply": "2021-10-21T10:51:46.118964Z"
        },
        "trusted": true,
        "colab": {
          "base_uri": "https://localhost:8080/",
          "height": 224
        },
        "id": "2OSklEkrPXbV",
        "outputId": "cd0c306b-d6cf-4513-932a-ffda5df1b81f"
      },
      "execution_count": null,
      "outputs": [
        {
          "output_type": "stream",
          "name": "stdout",
          "text": [
            "train_df: (6036000, 8)\n"
          ]
        },
        {
          "output_type": "execute_result",
          "data": {
            "text/plain": [
              "   id  breath_id   R   C  time_step       u_in  u_out   pressure\n",
              "0   1          1  20  50   0.000000   0.083334      0   5.837492\n",
              "1   2          1  20  50   0.033652  18.383041      0   5.907794\n",
              "2   3          1  20  50   0.067514  22.509278      0   7.876254\n",
              "3   4          1  20  50   0.101542  22.808822      0  11.742872\n",
              "4   5          1  20  50   0.135756  25.355850      0  12.234987"
            ],
            "text/html": [
              "\n",
              "  <div id=\"df-760df30c-bc25-4015-baf2-d5da24e6b316\">\n",
              "    <div class=\"colab-df-container\">\n",
              "      <div>\n",
              "<style scoped>\n",
              "    .dataframe tbody tr th:only-of-type {\n",
              "        vertical-align: middle;\n",
              "    }\n",
              "\n",
              "    .dataframe tbody tr th {\n",
              "        vertical-align: top;\n",
              "    }\n",
              "\n",
              "    .dataframe thead th {\n",
              "        text-align: right;\n",
              "    }\n",
              "</style>\n",
              "<table border=\"1\" class=\"dataframe\">\n",
              "  <thead>\n",
              "    <tr style=\"text-align: right;\">\n",
              "      <th></th>\n",
              "      <th>id</th>\n",
              "      <th>breath_id</th>\n",
              "      <th>R</th>\n",
              "      <th>C</th>\n",
              "      <th>time_step</th>\n",
              "      <th>u_in</th>\n",
              "      <th>u_out</th>\n",
              "      <th>pressure</th>\n",
              "    </tr>\n",
              "  </thead>\n",
              "  <tbody>\n",
              "    <tr>\n",
              "      <th>0</th>\n",
              "      <td>1</td>\n",
              "      <td>1</td>\n",
              "      <td>20</td>\n",
              "      <td>50</td>\n",
              "      <td>0.000000</td>\n",
              "      <td>0.083334</td>\n",
              "      <td>0</td>\n",
              "      <td>5.837492</td>\n",
              "    </tr>\n",
              "    <tr>\n",
              "      <th>1</th>\n",
              "      <td>2</td>\n",
              "      <td>1</td>\n",
              "      <td>20</td>\n",
              "      <td>50</td>\n",
              "      <td>0.033652</td>\n",
              "      <td>18.383041</td>\n",
              "      <td>0</td>\n",
              "      <td>5.907794</td>\n",
              "    </tr>\n",
              "    <tr>\n",
              "      <th>2</th>\n",
              "      <td>3</td>\n",
              "      <td>1</td>\n",
              "      <td>20</td>\n",
              "      <td>50</td>\n",
              "      <td>0.067514</td>\n",
              "      <td>22.509278</td>\n",
              "      <td>0</td>\n",
              "      <td>7.876254</td>\n",
              "    </tr>\n",
              "    <tr>\n",
              "      <th>3</th>\n",
              "      <td>4</td>\n",
              "      <td>1</td>\n",
              "      <td>20</td>\n",
              "      <td>50</td>\n",
              "      <td>0.101542</td>\n",
              "      <td>22.808822</td>\n",
              "      <td>0</td>\n",
              "      <td>11.742872</td>\n",
              "    </tr>\n",
              "    <tr>\n",
              "      <th>4</th>\n",
              "      <td>5</td>\n",
              "      <td>1</td>\n",
              "      <td>20</td>\n",
              "      <td>50</td>\n",
              "      <td>0.135756</td>\n",
              "      <td>25.355850</td>\n",
              "      <td>0</td>\n",
              "      <td>12.234987</td>\n",
              "    </tr>\n",
              "  </tbody>\n",
              "</table>\n",
              "</div>\n",
              "      <button class=\"colab-df-convert\" onclick=\"convertToInteractive('df-760df30c-bc25-4015-baf2-d5da24e6b316')\"\n",
              "              title=\"Convert this dataframe to an interactive table.\"\n",
              "              style=\"display:none;\">\n",
              "        \n",
              "  <svg xmlns=\"http://www.w3.org/2000/svg\" height=\"24px\"viewBox=\"0 0 24 24\"\n",
              "       width=\"24px\">\n",
              "    <path d=\"M0 0h24v24H0V0z\" fill=\"none\"/>\n",
              "    <path d=\"M18.56 5.44l.94 2.06.94-2.06 2.06-.94-2.06-.94-.94-2.06-.94 2.06-2.06.94zm-11 1L8.5 8.5l.94-2.06 2.06-.94-2.06-.94L8.5 2.5l-.94 2.06-2.06.94zm10 10l.94 2.06.94-2.06 2.06-.94-2.06-.94-.94-2.06-.94 2.06-2.06.94z\"/><path d=\"M17.41 7.96l-1.37-1.37c-.4-.4-.92-.59-1.43-.59-.52 0-1.04.2-1.43.59L10.3 9.45l-7.72 7.72c-.78.78-.78 2.05 0 2.83L4 21.41c.39.39.9.59 1.41.59.51 0 1.02-.2 1.41-.59l7.78-7.78 2.81-2.81c.8-.78.8-2.07 0-2.86zM5.41 20L4 18.59l7.72-7.72 1.47 1.35L5.41 20z\"/>\n",
              "  </svg>\n",
              "      </button>\n",
              "      \n",
              "  <style>\n",
              "    .colab-df-container {\n",
              "      display:flex;\n",
              "      flex-wrap:wrap;\n",
              "      gap: 12px;\n",
              "    }\n",
              "\n",
              "    .colab-df-convert {\n",
              "      background-color: #E8F0FE;\n",
              "      border: none;\n",
              "      border-radius: 50%;\n",
              "      cursor: pointer;\n",
              "      display: none;\n",
              "      fill: #1967D2;\n",
              "      height: 32px;\n",
              "      padding: 0 0 0 0;\n",
              "      width: 32px;\n",
              "    }\n",
              "\n",
              "    .colab-df-convert:hover {\n",
              "      background-color: #E2EBFA;\n",
              "      box-shadow: 0px 1px 2px rgba(60, 64, 67, 0.3), 0px 1px 3px 1px rgba(60, 64, 67, 0.15);\n",
              "      fill: #174EA6;\n",
              "    }\n",
              "\n",
              "    [theme=dark] .colab-df-convert {\n",
              "      background-color: #3B4455;\n",
              "      fill: #D2E3FC;\n",
              "    }\n",
              "\n",
              "    [theme=dark] .colab-df-convert:hover {\n",
              "      background-color: #434B5C;\n",
              "      box-shadow: 0px 1px 3px 1px rgba(0, 0, 0, 0.15);\n",
              "      filter: drop-shadow(0px 1px 2px rgba(0, 0, 0, 0.3));\n",
              "      fill: #FFFFFF;\n",
              "    }\n",
              "  </style>\n",
              "\n",
              "      <script>\n",
              "        const buttonEl =\n",
              "          document.querySelector('#df-760df30c-bc25-4015-baf2-d5da24e6b316 button.colab-df-convert');\n",
              "        buttonEl.style.display =\n",
              "          google.colab.kernel.accessAllowed ? 'block' : 'none';\n",
              "\n",
              "        async function convertToInteractive(key) {\n",
              "          const element = document.querySelector('#df-760df30c-bc25-4015-baf2-d5da24e6b316');\n",
              "          const dataTable =\n",
              "            await google.colab.kernel.invokeFunction('convertToInteractive',\n",
              "                                                     [key], {});\n",
              "          if (!dataTable) return;\n",
              "\n",
              "          const docLinkHtml = 'Like what you see? Visit the ' +\n",
              "            '<a target=\"_blank\" href=https://colab.research.google.com/notebooks/data_table.ipynb>data table notebook</a>'\n",
              "            + ' to learn more about interactive tables.';\n",
              "          element.innerHTML = '';\n",
              "          dataTable['output_type'] = 'display_data';\n",
              "          await google.colab.output.renderOutput(dataTable, element);\n",
              "          const docLink = document.createElement('div');\n",
              "          docLink.innerHTML = docLinkHtml;\n",
              "          element.appendChild(docLink);\n",
              "        }\n",
              "      </script>\n",
              "    </div>\n",
              "  </div>\n",
              "  "
            ]
          },
          "metadata": {},
          "execution_count": 4
        }
      ]
    },
    {
      "cell_type": "code",
      "source": [
        "test_df = pd.read_csv('/content/drive/MyDrive/IOT+AI : SRM - NITW/Google Ventilator Predictor/Data/test.csv')\n",
        "print(f\"test_df: {test_df.shape}\")\n",
        "test_df.head()"
      ],
      "metadata": {
        "papermill": {
          "duration": 5.111757,
          "end_time": "2021-10-02T10:01:54.659801",
          "exception": false,
          "start_time": "2021-10-02T10:01:49.548044",
          "status": "completed"
        },
        "tags": [],
        "execution": {
          "iopub.status.busy": "2021-10-21T10:51:46.121283Z",
          "iopub.execute_input": "2021-10-21T10:51:46.121609Z",
          "iopub.status.idle": "2021-10-21T10:51:50.216171Z",
          "shell.execute_reply.started": "2021-10-21T10:51:46.121579Z",
          "shell.execute_reply": "2021-10-21T10:51:50.215312Z"
        },
        "trusted": true,
        "colab": {
          "base_uri": "https://localhost:8080/",
          "height": 224
        },
        "id": "St7kh3sdPXbb",
        "outputId": "4ba07370-eb58-4ea4-8607-c3dea5b5d8e7"
      },
      "execution_count": null,
      "outputs": [
        {
          "output_type": "stream",
          "name": "stdout",
          "text": [
            "test_df: (4024000, 7)\n"
          ]
        },
        {
          "output_type": "execute_result",
          "data": {
            "text/plain": [
              "   id  breath_id  R   C  time_step       u_in  u_out\n",
              "0   1          0  5  20   0.000000   0.000000      0\n",
              "1   2          0  5  20   0.031904   7.515046      0\n",
              "2   3          0  5  20   0.063827  14.651675      0\n",
              "3   4          0  5  20   0.095751  21.230610      0\n",
              "4   5          0  5  20   0.127644  26.320956      0"
            ],
            "text/html": [
              "\n",
              "  <div id=\"df-0eb6a3f3-bffc-4b48-a6bc-6a62a35c130a\">\n",
              "    <div class=\"colab-df-container\">\n",
              "      <div>\n",
              "<style scoped>\n",
              "    .dataframe tbody tr th:only-of-type {\n",
              "        vertical-align: middle;\n",
              "    }\n",
              "\n",
              "    .dataframe tbody tr th {\n",
              "        vertical-align: top;\n",
              "    }\n",
              "\n",
              "    .dataframe thead th {\n",
              "        text-align: right;\n",
              "    }\n",
              "</style>\n",
              "<table border=\"1\" class=\"dataframe\">\n",
              "  <thead>\n",
              "    <tr style=\"text-align: right;\">\n",
              "      <th></th>\n",
              "      <th>id</th>\n",
              "      <th>breath_id</th>\n",
              "      <th>R</th>\n",
              "      <th>C</th>\n",
              "      <th>time_step</th>\n",
              "      <th>u_in</th>\n",
              "      <th>u_out</th>\n",
              "    </tr>\n",
              "  </thead>\n",
              "  <tbody>\n",
              "    <tr>\n",
              "      <th>0</th>\n",
              "      <td>1</td>\n",
              "      <td>0</td>\n",
              "      <td>5</td>\n",
              "      <td>20</td>\n",
              "      <td>0.000000</td>\n",
              "      <td>0.000000</td>\n",
              "      <td>0</td>\n",
              "    </tr>\n",
              "    <tr>\n",
              "      <th>1</th>\n",
              "      <td>2</td>\n",
              "      <td>0</td>\n",
              "      <td>5</td>\n",
              "      <td>20</td>\n",
              "      <td>0.031904</td>\n",
              "      <td>7.515046</td>\n",
              "      <td>0</td>\n",
              "    </tr>\n",
              "    <tr>\n",
              "      <th>2</th>\n",
              "      <td>3</td>\n",
              "      <td>0</td>\n",
              "      <td>5</td>\n",
              "      <td>20</td>\n",
              "      <td>0.063827</td>\n",
              "      <td>14.651675</td>\n",
              "      <td>0</td>\n",
              "    </tr>\n",
              "    <tr>\n",
              "      <th>3</th>\n",
              "      <td>4</td>\n",
              "      <td>0</td>\n",
              "      <td>5</td>\n",
              "      <td>20</td>\n",
              "      <td>0.095751</td>\n",
              "      <td>21.230610</td>\n",
              "      <td>0</td>\n",
              "    </tr>\n",
              "    <tr>\n",
              "      <th>4</th>\n",
              "      <td>5</td>\n",
              "      <td>0</td>\n",
              "      <td>5</td>\n",
              "      <td>20</td>\n",
              "      <td>0.127644</td>\n",
              "      <td>26.320956</td>\n",
              "      <td>0</td>\n",
              "    </tr>\n",
              "  </tbody>\n",
              "</table>\n",
              "</div>\n",
              "      <button class=\"colab-df-convert\" onclick=\"convertToInteractive('df-0eb6a3f3-bffc-4b48-a6bc-6a62a35c130a')\"\n",
              "              title=\"Convert this dataframe to an interactive table.\"\n",
              "              style=\"display:none;\">\n",
              "        \n",
              "  <svg xmlns=\"http://www.w3.org/2000/svg\" height=\"24px\"viewBox=\"0 0 24 24\"\n",
              "       width=\"24px\">\n",
              "    <path d=\"M0 0h24v24H0V0z\" fill=\"none\"/>\n",
              "    <path d=\"M18.56 5.44l.94 2.06.94-2.06 2.06-.94-2.06-.94-.94-2.06-.94 2.06-2.06.94zm-11 1L8.5 8.5l.94-2.06 2.06-.94-2.06-.94L8.5 2.5l-.94 2.06-2.06.94zm10 10l.94 2.06.94-2.06 2.06-.94-2.06-.94-.94-2.06-.94 2.06-2.06.94z\"/><path d=\"M17.41 7.96l-1.37-1.37c-.4-.4-.92-.59-1.43-.59-.52 0-1.04.2-1.43.59L10.3 9.45l-7.72 7.72c-.78.78-.78 2.05 0 2.83L4 21.41c.39.39.9.59 1.41.59.51 0 1.02-.2 1.41-.59l7.78-7.78 2.81-2.81c.8-.78.8-2.07 0-2.86zM5.41 20L4 18.59l7.72-7.72 1.47 1.35L5.41 20z\"/>\n",
              "  </svg>\n",
              "      </button>\n",
              "      \n",
              "  <style>\n",
              "    .colab-df-container {\n",
              "      display:flex;\n",
              "      flex-wrap:wrap;\n",
              "      gap: 12px;\n",
              "    }\n",
              "\n",
              "    .colab-df-convert {\n",
              "      background-color: #E8F0FE;\n",
              "      border: none;\n",
              "      border-radius: 50%;\n",
              "      cursor: pointer;\n",
              "      display: none;\n",
              "      fill: #1967D2;\n",
              "      height: 32px;\n",
              "      padding: 0 0 0 0;\n",
              "      width: 32px;\n",
              "    }\n",
              "\n",
              "    .colab-df-convert:hover {\n",
              "      background-color: #E2EBFA;\n",
              "      box-shadow: 0px 1px 2px rgba(60, 64, 67, 0.3), 0px 1px 3px 1px rgba(60, 64, 67, 0.15);\n",
              "      fill: #174EA6;\n",
              "    }\n",
              "\n",
              "    [theme=dark] .colab-df-convert {\n",
              "      background-color: #3B4455;\n",
              "      fill: #D2E3FC;\n",
              "    }\n",
              "\n",
              "    [theme=dark] .colab-df-convert:hover {\n",
              "      background-color: #434B5C;\n",
              "      box-shadow: 0px 1px 3px 1px rgba(0, 0, 0, 0.15);\n",
              "      filter: drop-shadow(0px 1px 2px rgba(0, 0, 0, 0.3));\n",
              "      fill: #FFFFFF;\n",
              "    }\n",
              "  </style>\n",
              "\n",
              "      <script>\n",
              "        const buttonEl =\n",
              "          document.querySelector('#df-0eb6a3f3-bffc-4b48-a6bc-6a62a35c130a button.colab-df-convert');\n",
              "        buttonEl.style.display =\n",
              "          google.colab.kernel.accessAllowed ? 'block' : 'none';\n",
              "\n",
              "        async function convertToInteractive(key) {\n",
              "          const element = document.querySelector('#df-0eb6a3f3-bffc-4b48-a6bc-6a62a35c130a');\n",
              "          const dataTable =\n",
              "            await google.colab.kernel.invokeFunction('convertToInteractive',\n",
              "                                                     [key], {});\n",
              "          if (!dataTable) return;\n",
              "\n",
              "          const docLinkHtml = 'Like what you see? Visit the ' +\n",
              "            '<a target=\"_blank\" href=https://colab.research.google.com/notebooks/data_table.ipynb>data table notebook</a>'\n",
              "            + ' to learn more about interactive tables.';\n",
              "          element.innerHTML = '';\n",
              "          dataTable['output_type'] = 'display_data';\n",
              "          await google.colab.output.renderOutput(dataTable, element);\n",
              "          const docLink = document.createElement('div');\n",
              "          docLink.innerHTML = docLinkHtml;\n",
              "          element.appendChild(docLink);\n",
              "        }\n",
              "      </script>\n",
              "    </div>\n",
              "  </div>\n",
              "  "
            ]
          },
          "metadata": {},
          "execution_count": 5
        }
      ]
    },
    {
      "cell_type": "markdown",
      "source": [
        "## Feature Engineering"
      ],
      "metadata": {
        "papermill": {
          "duration": 0.017258,
          "end_time": "2021-10-02T10:01:54.695134",
          "exception": false,
          "start_time": "2021-10-02T10:01:54.677876",
          "status": "completed"
        },
        "tags": [],
        "id": "GMSM70ZhPXbj"
      }
    },
    {
      "cell_type": "code",
      "source": [
        "def add_features(df):\n",
        "    df['cross']= df['u_in'] * df['u_out']\n",
        "    df['cross2']= df['time_step'] * df['u_out']\n",
        "    df['area'] = df['time_step'] * df['u_in']\n",
        "    df['area'] = df.groupby('breath_id')['area'].cumsum()\n",
        "    df['time_step_cumsum'] = df.groupby(['breath_id'])['time_step'].cumsum()\n",
        "    df['u_in_cumsum'] = (df['u_in']).groupby(df['breath_id']).cumsum()\n",
        "    print(\"Step-1...Completed\")\n",
        "\n",
        "    df['u_in_lag1'] = df.groupby('breath_id')['u_in'].shift(1)\n",
        "    df['u_out_lag1'] = df.groupby('breath_id')['u_out'].shift(1)\n",
        "    df['u_in_lag_back1'] = df.groupby('breath_id')['u_in'].shift(-1)\n",
        "    df['u_out_lag_back1'] = df.groupby('breath_id')['u_out'].shift(-1)\n",
        "    df['u_in_lag2'] = df.groupby('breath_id')['u_in'].shift(2)\n",
        "    df['u_out_lag2'] = df.groupby('breath_id')['u_out'].shift(2)\n",
        "    df['u_in_lag_back2'] = df.groupby('breath_id')['u_in'].shift(-2)\n",
        "    df['u_out_lag_back2'] = df.groupby('breath_id')['u_out'].shift(-2)\n",
        "    df['u_in_lag3'] = df.groupby('breath_id')['u_in'].shift(3)\n",
        "    df['u_out_lag3'] = df.groupby('breath_id')['u_out'].shift(3)\n",
        "    df['u_in_lag_back3'] = df.groupby('breath_id')['u_in'].shift(-3)\n",
        "    df['u_out_lag_back3'] = df.groupby('breath_id')['u_out'].shift(-3)\n",
        "    df['u_in_lag4'] = df.groupby('breath_id')['u_in'].shift(4)\n",
        "    df['u_out_lag4'] = df.groupby('breath_id')['u_out'].shift(4)\n",
        "    df['u_in_lag_back4'] = df.groupby('breath_id')['u_in'].shift(-4)\n",
        "    df['u_out_lag_back4'] = df.groupby('breath_id')['u_out'].shift(-4)\n",
        "    df = df.fillna(0)\n",
        "    print(\"Step-2...Completed\")\n",
        "\n",
        "    df['breath_id__u_in__max'] = df.groupby(['breath_id'])['u_in'].transform('max')\n",
        "    df['breath_id__u_in__mean'] = df.groupby(['breath_id'])['u_in'].transform('mean')\n",
        "    df['breath_id__u_in__diffmax'] = df.groupby(['breath_id'])['u_in'].transform('max') - df['u_in']\n",
        "    df['breath_id__u_in__diffmean'] = df.groupby(['breath_id'])['u_in'].transform('mean') - df['u_in']\n",
        "    print(\"Step-3...Completed\")\n",
        "\n",
        "    df['u_in_diff1'] = df['u_in'] - df['u_in_lag1']\n",
        "    df['u_out_diff1'] = df['u_out'] - df['u_out_lag1']\n",
        "    df['u_in_diff2'] = df['u_in'] - df['u_in_lag2']\n",
        "    df['u_out_diff2'] = df['u_out'] - df['u_out_lag2']\n",
        "    df['u_in_diff3'] = df['u_in'] - df['u_in_lag3']\n",
        "    df['u_out_diff3'] = df['u_out'] - df['u_out_lag3']\n",
        "    df['u_in_diff4'] = df['u_in'] - df['u_in_lag4']\n",
        "    df['u_out_diff4'] = df['u_out'] - df['u_out_lag4']\n",
        "    print(\"Step-4...Completed\")\n",
        "\n",
        "    df['one'] = 1\n",
        "    df['count'] = (df['one']).groupby(df['breath_id']).cumsum()\n",
        "    df['u_in_cummean'] =df['u_in_cumsum'] /df['count']\n",
        "\n",
        "    df['breath_id_lag']=df['breath_id'].shift(1).fillna(0)\n",
        "    df['breath_id_lag2']=df['breath_id'].shift(2).fillna(0)\n",
        "    df['breath_id_lagsame']=np.select([df['breath_id_lag']==df['breath_id']],[1],0)\n",
        "    df['breath_id_lag2same']=np.select([df['breath_id_lag2']==df['breath_id']],[1],0)\n",
        "    df['breath_id__u_in_lag'] = df['u_in'].shift(1).fillna(0)\n",
        "    df['breath_id__u_in_lag'] = df['breath_id__u_in_lag'] * df['breath_id_lagsame']\n",
        "    df['breath_id__u_in_lag2'] = df['u_in'].shift(2).fillna(0)\n",
        "    df['breath_id__u_in_lag2'] = df['breath_id__u_in_lag2'] * df['breath_id_lag2same']\n",
        "    print(\"Step-5...Completed\")\n",
        "\n",
        "    # df['time_step_diff'] = df.groupby('breath_id')['time_step'].diff().fillna(0)\n",
        "    # df['ewm_u_in_mean'] = (df\\\n",
        "    #                        .groupby('breath_id')['u_in']\\\n",
        "    #                        .ewm(halflife=9)\\\n",
        "    #                        .mean()\\\n",
        "    #                        .reset_index(level=0,drop=True))\n",
        "    # df[[\"15_in_sum\",\"15_in_min\",\"15_in_max\",\"15_in_mean\"]] = (df\\\n",
        "    #                                                           .groupby('breath_id')['u_in']\\\n",
        "    #                                                           .rolling(window=15,min_periods=1)\\\n",
        "    #                                                           .agg({\"15_in_sum\":\"sum\",\n",
        "    #                                                                 \"15_in_min\":\"min\",\n",
        "    #                                                                 \"15_in_max\":\"max\",\n",
        "    #                                                                 \"15_in_mean\":\"mean\"})\\\n",
        "    #                                                            .reset_index(level=0,drop=True))\n",
        "    # print(\"Step-6...Completed\")\n",
        "\n",
        "    # df['u_in_lagback_diff1'] = df['u_in'] - df['u_in_lag_back1']\n",
        "    # df['u_out_lagback_diff1'] = df['u_out'] - df['u_out_lag_back1']\n",
        "    # df['u_in_lagback_diff2'] = df['u_in'] - df['u_in_lag_back2']\n",
        "    # df['u_out_lagback_diff2'] = df['u_out'] - df['u_out_lag_back2']\n",
        "    # print(\"Step-7...Completed\")\n",
        "\n",
        "    df['R'] = df['R'].astype(str)\n",
        "    df['C'] = df['C'].astype(str)\n",
        "    df['R__C'] = df[\"R\"].astype(str) + '__' + df[\"C\"].astype(str)\n",
        "    df = pd.get_dummies(df)\n",
        "    print(\"Step-8...Completed\")\n",
        "\n",
        "    return df\n",
        "\n",
        "\n",
        "print(\"Train data...\\n\")\n",
        "train = add_features(train_df)\n",
        "del train_df\n",
        "gc.collect()\n",
        "print(\"\\nTest data...\\n\")\n",
        "test = add_features(test_df)\n",
        "\n",
        "\n",
        "del test_df\n",
        "gc.collect()"
      ],
      "metadata": {
        "_cell_guid": "13a36b46-7067-4b29-aad3-7e3b15e8415b",
        "_uuid": "dc41dbf2-f199-4b9d-bbd9-bf6084162b47",
        "jupyter": {
          "outputs_hidden": false
        },
        "papermill": {
          "duration": 65.287443,
          "end_time": "2021-10-02T10:02:59.999123",
          "exception": false,
          "start_time": "2021-10-02T10:01:54.71168",
          "status": "completed"
        },
        "tags": [],
        "execution": {
          "iopub.status.busy": "2021-10-21T10:51:50.217553Z",
          "iopub.execute_input": "2021-10-21T10:51:50.218523Z",
          "iopub.status.idle": "2021-10-21T10:53:39.627176Z",
          "shell.execute_reply.started": "2021-10-21T10:51:50.218485Z",
          "shell.execute_reply": "2021-10-21T10:53:39.626257Z"
        },
        "trusted": true,
        "colab": {
          "base_uri": "https://localhost:8080/"
        },
        "id": "k4FhuqYjPXbo",
        "outputId": "156e2000-d158-4912-a3bb-92f7112b87a9"
      },
      "execution_count": null,
      "outputs": [
        {
          "output_type": "stream",
          "name": "stdout",
          "text": [
            "Train data...\n",
            "\n",
            "Step-1...Completed\n",
            "Step-2...Completed\n",
            "Step-3...Completed\n",
            "Step-4...Completed\n",
            "Step-5...Completed\n",
            "Step-8...Completed\n",
            "\n",
            "Test data...\n",
            "\n",
            "Step-1...Completed\n",
            "Step-2...Completed\n",
            "Step-3...Completed\n",
            "Step-4...Completed\n",
            "Step-5...Completed\n",
            "Step-8...Completed\n"
          ]
        },
        {
          "output_type": "execute_result",
          "data": {
            "text/plain": [
              "0"
            ]
          },
          "metadata": {},
          "execution_count": 6
        }
      ]
    },
    {
      "cell_type": "code",
      "source": [
        "targets = train[['pressure']].to_numpy().reshape(-1, 80)\n",
        "\n",
        "train.drop(['pressure','id', 'breath_id','one','count',\n",
        "            'breath_id_lag','breath_id_lag2','breath_id_lagsame',\n",
        "            'breath_id_lag2same'], axis=1, inplace=True)\n",
        "\n",
        "test = test.drop(['id', 'breath_id','one','count','breath_id_lag',\n",
        "                  'breath_id_lag2','breath_id_lagsame',\n",
        "                  'breath_id_lag2same'], axis=1)\n",
        "\n",
        "print(f\"train: {train.shape} \\ntest: {test.shape}\")"
      ],
      "metadata": {
        "_cell_guid": "01328860-fa2a-421c-9e5f-ea0048246f98",
        "_uuid": "346bf2c0-96d2-4da5-8837-c0f820294a85",
        "jupyter": {
          "outputs_hidden": false
        },
        "papermill": {
          "duration": 6.737804,
          "end_time": "2021-10-02T10:03:06.757726",
          "exception": false,
          "start_time": "2021-10-02T10:03:00.019922",
          "status": "completed"
        },
        "tags": [],
        "execution": {
          "iopub.status.busy": "2021-10-21T10:53:39.629952Z",
          "iopub.execute_input": "2021-10-21T10:53:39.630898Z",
          "iopub.status.idle": "2021-10-21T10:53:44.665608Z",
          "shell.execute_reply.started": "2021-10-21T10:53:39.630851Z",
          "shell.execute_reply": "2021-10-21T10:53:44.664579Z"
        },
        "trusted": true,
        "colab": {
          "base_uri": "https://localhost:8080/"
        },
        "id": "lmOAj0TaPXcF",
        "outputId": "71738927-035c-4664-9b12-f896015b8420"
      },
      "execution_count": null,
      "outputs": [
        {
          "output_type": "stream",
          "name": "stdout",
          "text": [
            "train: (6036000, 54) \n",
            "test: (4024000, 54)\n"
          ]
        }
      ]
    },
    {
      "cell_type": "code",
      "source": [
        "scaler = RobustScaler()\n",
        "train = scaler.fit_transform(train)\n",
        "test = scaler.transform(test)\n",
        "\n",
        "train = train.reshape(-1, 80, train.shape[-1])\n",
        "test = test.reshape(-1, 80, train.shape[-1])\n",
        "\n",
        "print(f\"train: {train.shape} \\ntest: {test.shape} \\ntargets: {targets.shape}\")"
      ],
      "metadata": {
        "papermill": {
          "duration": 16.573662,
          "end_time": "2021-10-02T10:03:23.35312",
          "exception": false,
          "start_time": "2021-10-02T10:03:06.779458",
          "status": "completed"
        },
        "tags": [],
        "execution": {
          "iopub.status.busy": "2021-10-21T10:53:44.666977Z",
          "iopub.execute_input": "2021-10-21T10:53:44.667508Z",
          "iopub.status.idle": "2021-10-21T10:53:57.828243Z",
          "shell.execute_reply.started": "2021-10-21T10:53:44.667463Z",
          "shell.execute_reply": "2021-10-21T10:53:57.827159Z"
        },
        "trusted": true,
        "colab": {
          "base_uri": "https://localhost:8080/"
        },
        "id": "esv-xWQ2PXcN",
        "outputId": "38a8f694-bb12-4b99-f844-f180436a92c7"
      },
      "execution_count": null,
      "outputs": [
        {
          "output_type": "stream",
          "name": "stdout",
          "text": [
            "train: (75450, 80, 54) \n",
            "test: (50300, 80, 54) \n",
            "targets: (75450, 80)\n"
          ]
        }
      ]
    },
    {
      "cell_type": "code",
      "source": [
        "pressure = targets.squeeze().reshape(-1,1).astype('float32')\n",
        "\n",
        "P_MIN = np.min(pressure)\n",
        "P_MAX = np.max(pressure)\n",
        "P_STEP = (pressure[1] - pressure[0])[0]\n",
        "print('Min pressure: {}'.format(P_MIN))\n",
        "print('Max pressure: {}'.format(P_MAX))\n",
        "print('Pressure step: {}'.format(P_STEP))\n",
        "print('Unique values:  {}'.format(np.unique(pressure).shape[0]))\n",
        "\n",
        "del pressure\n",
        "gc.collect()"
      ],
      "metadata": {
        "execution": {
          "iopub.status.busy": "2021-10-21T10:53:57.829304Z",
          "iopub.execute_input": "2021-10-21T10:53:57.829552Z",
          "iopub.status.idle": "2021-10-21T10:53:58.365213Z",
          "shell.execute_reply.started": "2021-10-21T10:53:57.829524Z",
          "shell.execute_reply": "2021-10-21T10:53:58.364406Z"
        },
        "trusted": true,
        "colab": {
          "base_uri": "https://localhost:8080/"
        },
        "id": "14Ng8zm7PXcS",
        "outputId": "6d23c22f-71f4-4ff2-b5c0-7068dd4df9e5"
      },
      "execution_count": null,
      "outputs": [
        {
          "output_type": "stream",
          "name": "stdout",
          "text": [
            "Min pressure: -1.8957443237304688\n",
            "Max pressure: 64.82099151611328\n",
            "Pressure step: 0.07030248641967773\n",
            "Unique values:  950\n"
          ]
        },
        {
          "output_type": "execute_result",
          "data": {
            "text/plain": [
              "22"
            ]
          },
          "metadata": {},
          "execution_count": 9
        }
      ]
    },
    {
      "cell_type": "markdown",
      "source": [
        "## Hardware config"
      ],
      "metadata": {
        "papermill": {
          "duration": 0.02619,
          "end_time": "2021-10-02T10:03:23.404084",
          "exception": false,
          "start_time": "2021-10-02T10:03:23.377894",
          "status": "completed"
        },
        "tags": [],
        "id": "-8gN8E06PXcW"
      }
    },
    {
      "cell_type": "code",
      "source": [
        "try:\n",
        "    tpu = tf.distribute.cluster_resolver.TPUClusterResolver()\n",
        "    tf.config.experimental_connect_to_cluster(tpu)\n",
        "    tf.tpu.experimental.initialize_tpu_system(tpu)\n",
        "    tpu_strategy = tf.distribute.experimental.TPUStrategy(tpu)\n",
        "    BATCH_SIZE = tpu_strategy.num_replicas_in_sync * 64\n",
        "    print(\"Running on TPU:\", tpu.master())\n",
        "    print(f\"Batch Size: {BATCH_SIZE}\")\n",
        "\n",
        "except ValueError:\n",
        "    strategy = tf.distribute.get_strategy()\n",
        "    BATCH_SIZE = 512\n",
        "    print(f\"Running on {strategy.num_replicas_in_sync} replicas\")\n",
        "    print(f\"Batch Size: {BATCH_SIZE}\")"
      ],
      "metadata": {
        "papermill": {
          "duration": 5.822056,
          "end_time": "2021-10-02T10:03:29.255869",
          "exception": false,
          "start_time": "2021-10-02T10:03:23.433813",
          "status": "completed"
        },
        "tags": [],
        "execution": {
          "iopub.status.busy": "2021-10-21T10:53:58.366432Z",
          "iopub.execute_input": "2021-10-21T10:53:58.366902Z",
          "iopub.status.idle": "2021-10-21T10:54:04.009906Z",
          "shell.execute_reply.started": "2021-10-21T10:53:58.366869Z",
          "shell.execute_reply": "2021-10-21T10:54:04.008589Z"
        },
        "trusted": true,
        "colab": {
          "base_uri": "https://localhost:8080/"
        },
        "id": "pXZVLPTDPXcZ",
        "outputId": "acf6a878-2834-43b8-b60e-7d4d7966f8af"
      },
      "execution_count": null,
      "outputs": [
        {
          "output_type": "stream",
          "name": "stdout",
          "text": [
            "Running on 1 replicas\n",
            "Batch Size: 512\n"
          ]
        }
      ]
    },
    {
      "cell_type": "markdown",
      "source": [
        "## Keras DNN Model"
      ],
      "metadata": {
        "papermill": {
          "duration": 0.021164,
          "end_time": "2021-10-02T10:03:29.2981",
          "exception": false,
          "start_time": "2021-10-02T10:03:29.276936",
          "status": "completed"
        },
        "tags": [],
        "id": "jW-hywOHPXce"
      }
    },
    {
      "cell_type": "code",
      "source": [
        "def dnn_model1():\n",
        "\n",
        "    x_input = Input(shape=(train.shape[-2:]))\n",
        "\n",
        "    x1 = Bidirectional(GRU(units=768, return_sequences=True))(x_input)\n",
        "    x2 = Bidirectional(GRU(units=512, return_sequences=True))(x1)\n",
        "    x3 = Bidirectional(GRU(units=256, return_sequences=True))(x2)\n",
        "\n",
        "    z2 = Bidirectional(GRU(units=256, return_sequences=True))(x2)\n",
        "    z3 = Bidirectional(GRU(units=128, return_sequences=True))(Add()([x3, z2]))\n",
        "\n",
        "    x = Concatenate(axis=2)([x3, z2, z3])\n",
        "    x = Bidirectional(GRU(units=192, return_sequences=True))(x)\n",
        "\n",
        "    x = Dense(units=240, activation='tanh')(x)\n",
        "\n",
        "    x_output = Dense(units=1)(x)\n",
        "\n",
        "    model = Model(inputs=x_input, outputs=x_output,\n",
        "                  name='DNN_Model')\n",
        "    return model"
      ],
      "metadata": {
        "execution": {
          "iopub.status.busy": "2021-10-21T10:54:04.011185Z",
          "iopub.execute_input": "2021-10-21T10:54:04.011465Z",
          "iopub.status.idle": "2021-10-21T10:54:04.020622Z",
          "shell.execute_reply.started": "2021-10-21T10:54:04.011434Z",
          "shell.execute_reply": "2021-10-21T10:54:04.019446Z"
        },
        "trusted": true,
        "id": "qHtqWBL8PXcm"
      },
      "execution_count": null,
      "outputs": []
    },
    {
      "cell_type": "code",
      "source": [
        "def dnn_model():\n",
        "\n",
        "    x_input = Input(shape=(train.shape[-2:]))\n",
        "\n",
        "    x1 = Bidirectional(LSTM(units=768, return_sequences=True))(x_input)\n",
        "    x2 = Bidirectional(LSTM(units=512, return_sequences=True))(x1)\n",
        "    x3 = Bidirectional(LSTM(units=256, return_sequences=True))(x2)\n",
        "\n",
        "    z2 = Bidirectional(GRU(units=256, return_sequences=True))(x2)\n",
        "    z3 = Bidirectional(GRU(units=128, return_sequences=True))(Add()([x3, z2]))\n",
        "\n",
        "    x = Concatenate(axis=2)([x3, z2, z3])\n",
        "    x = Bidirectional(LSTM(units=192, return_sequences=True))(x)\n",
        "\n",
        "    x = Dense(units=128, activation='tanh')(x)\n",
        "\n",
        "    x_output = Dense(units=1)(x)\n",
        "\n",
        "    model = Model(inputs=x_input, outputs=x_output,\n",
        "                  name='DNN_Model')\n",
        "    return model"
      ],
      "metadata": {
        "papermill": {
          "duration": 0.034282,
          "end_time": "2021-10-02T10:03:29.353571",
          "exception": false,
          "start_time": "2021-10-02T10:03:29.319289",
          "status": "completed"
        },
        "tags": [],
        "execution": {
          "iopub.status.busy": "2021-10-21T10:54:04.021963Z",
          "iopub.execute_input": "2021-10-21T10:54:04.022216Z",
          "iopub.status.idle": "2021-10-21T10:54:04.043311Z",
          "shell.execute_reply.started": "2021-10-21T10:54:04.022189Z",
          "shell.execute_reply": "2021-10-21T10:54:04.042481Z"
        },
        "trusted": true,
        "id": "cRKQ3jEnPXcp"
      },
      "execution_count": null,
      "outputs": []
    },
    {
      "cell_type": "code",
      "source": [
        "model = dnn_model1()\n",
        "model.summary()"
      ],
      "metadata": {
        "papermill": {
          "duration": 4.646068,
          "end_time": "2021-10-02T10:03:34.021825",
          "exception": false,
          "start_time": "2021-10-02T10:03:29.375757",
          "status": "completed"
        },
        "tags": [],
        "execution": {
          "iopub.status.busy": "2021-10-21T10:54:04.045173Z",
          "iopub.execute_input": "2021-10-21T10:54:04.045592Z",
          "iopub.status.idle": "2021-10-21T10:54:07.812467Z",
          "shell.execute_reply.started": "2021-10-21T10:54:04.045552Z",
          "shell.execute_reply": "2021-10-21T10:54:07.811111Z"
        },
        "trusted": true,
        "colab": {
          "base_uri": "https://localhost:8080/"
        },
        "id": "GEDQ_UyWPXc0",
        "outputId": "577154e2-d741-4237-e247-7782c25d6ecd"
      },
      "execution_count": null,
      "outputs": [
        {
          "output_type": "stream",
          "name": "stdout",
          "text": [
            "Model: \"DNN_Model\"\n",
            "__________________________________________________________________________________________________\n",
            " Layer (type)                   Output Shape         Param #     Connected to                     \n",
            "==================================================================================================\n",
            " input_1 (InputLayer)           [(None, 80, 54)]     0           []                               \n",
            "                                                                                                  \n",
            " bidirectional (Bidirectional)  (None, 80, 1536)     3796992     ['input_1[0][0]']                \n",
            "                                                                                                  \n",
            " bidirectional_1 (Bidirectional  (None, 80, 1024)    6297600     ['bidirectional[0][0]']          \n",
            " )                                                                                                \n",
            "                                                                                                  \n",
            " bidirectional_2 (Bidirectional  (None, 80, 512)     1969152     ['bidirectional_1[0][0]']        \n",
            " )                                                                                                \n",
            "                                                                                                  \n",
            " bidirectional_3 (Bidirectional  (None, 80, 512)     1969152     ['bidirectional_1[0][0]']        \n",
            " )                                                                                                \n",
            "                                                                                                  \n",
            " add (Add)                      (None, 80, 512)      0           ['bidirectional_2[0][0]',        \n",
            "                                                                  'bidirectional_3[0][0]']        \n",
            "                                                                                                  \n",
            " bidirectional_4 (Bidirectional  (None, 80, 256)     493056      ['add[0][0]']                    \n",
            " )                                                                                                \n",
            "                                                                                                  \n",
            " concatenate (Concatenate)      (None, 80, 1280)     0           ['bidirectional_2[0][0]',        \n",
            "                                                                  'bidirectional_3[0][0]',        \n",
            "                                                                  'bidirectional_4[0][0]']        \n",
            "                                                                                                  \n",
            " bidirectional_5 (Bidirectional  (None, 80, 384)     1698048     ['concatenate[0][0]']            \n",
            " )                                                                                                \n",
            "                                                                                                  \n",
            " dense (Dense)                  (None, 80, 240)      92400       ['bidirectional_5[0][0]']        \n",
            "                                                                                                  \n",
            " dense_1 (Dense)                (None, 80, 1)        241         ['dense[0][0]']                  \n",
            "                                                                                                  \n",
            "==================================================================================================\n",
            "Total params: 16,316,641\n",
            "Trainable params: 16,316,641\n",
            "Non-trainable params: 0\n",
            "__________________________________________________________________________________________________\n"
          ]
        }
      ]
    },
    {
      "cell_type": "code",
      "source": [
        "model = cnn_model()\n",
        "model.summary()"
      ],
      "metadata": {
        "execution": {
          "iopub.status.busy": "2021-10-21T10:54:07.813698Z",
          "iopub.execute_input": "2021-10-21T10:54:07.813925Z",
          "iopub.status.idle": "2021-10-21T10:54:08.118216Z",
          "shell.execute_reply.started": "2021-10-21T10:54:07.813901Z",
          "shell.execute_reply": "2021-10-21T10:54:08.116843Z"
        },
        "trusted": true,
        "id": "Hehf2RDAPXc4",
        "outputId": "71ee4c53-0856-4ce8-972d-6edd93985003"
      },
      "execution_count": null,
      "outputs": [
        {
          "traceback": [
            "\u001b[0;31m---------------------------------------------------------------------------\u001b[0m",
            "\u001b[0;31mNameError\u001b[0m                                 Traceback (most recent call last)",
            "\u001b[0;32m/tmp/ipykernel_470/149160529.py\u001b[0m in \u001b[0;36m<module>\u001b[0;34m\u001b[0m\n\u001b[0;32m----> 1\u001b[0;31m \u001b[0mmodel\u001b[0m \u001b[0;34m=\u001b[0m \u001b[0mcnn_model\u001b[0m\u001b[0;34m(\u001b[0m\u001b[0;34m)\u001b[0m\u001b[0;34m\u001b[0m\u001b[0;34m\u001b[0m\u001b[0m\n\u001b[0m\u001b[1;32m      2\u001b[0m \u001b[0mmodel\u001b[0m\u001b[0;34m.\u001b[0m\u001b[0msummary\u001b[0m\u001b[0;34m(\u001b[0m\u001b[0;34m)\u001b[0m\u001b[0;34m\u001b[0m\u001b[0;34m\u001b[0m\u001b[0m\n",
            "\u001b[0;31mNameError\u001b[0m: name 'cnn_model' is not defined"
          ],
          "ename": "NameError",
          "evalue": "name 'cnn_model' is not defined",
          "output_type": "error"
        }
      ]
    },
    {
      "cell_type": "code",
      "source": [
        "plot_model(\n",
        "    model,\n",
        "    to_file='Google_Brain_Keras_Model.png',\n",
        "    show_shapes=True,\n",
        "    show_layer_names=True\n",
        ")"
      ],
      "metadata": {
        "papermill": {
          "duration": 1.176472,
          "end_time": "2021-10-02T10:03:35.22082",
          "exception": false,
          "start_time": "2021-10-02T10:03:34.044348",
          "status": "completed"
        },
        "tags": [],
        "execution": {
          "iopub.status.busy": "2021-10-21T10:54:08.119574Z",
          "iopub.status.idle": "2021-10-21T10:54:08.120097Z",
          "shell.execute_reply.started": "2021-10-21T10:54:08.119816Z",
          "shell.execute_reply": "2021-10-21T10:54:08.119834Z"
        },
        "trusted": true,
        "colab": {
          "base_uri": "https://localhost:8080/",
          "height": 868
        },
        "id": "3rZM16CtPXc8",
        "outputId": "eecdda4f-d5e4-45eb-867f-31f58c185e97"
      },
      "execution_count": null,
      "outputs": [
        {
          "output_type": "execute_result",
          "data": {
            "image/png": "[encoded data removed]",
            "text/plain": [
              "<IPython.core.display.Image object>"
            ]
          },
          "metadata": {},
          "execution_count": 14
        }
      ]
    },
    {
      "cell_type": "code",
      "source": [
        "with tpu_strategy.scope():\n",
        "\n",
        "    VERBOSE = 0\n",
        "    test_preds = []\n",
        "    kf = KFold(n_splits=7, shuffle=True, random_state=2021)\n",
        "\n",
        "    for fold, (train_idx, test_idx) in enumerate(kf.split(train, targets)):\n",
        "        X_train, X_valid = train[train_idx], train[test_idx]\n",
        "        y_train, y_valid = targets[train_idx], targets[test_idx]\n",
        "\n",
        "        model = dnn_model1()\n",
        "        model.compile(optimizer=\"adam\", loss=\"mae\")\n",
        "\n",
        "        lr = ReduceLROnPlateau(monitor=\"val_loss\", factor=0.75,\n",
        "                               patience=10, verbose=VERBOSE)\n",
        "\n",
        "        save_locally = tf.saved_model.SaveOptions(experimental_io_device='/job:localhost')\n",
        "        chk_point = ModelCheckpoint(f'./Bidirect_LSTM_model_{fold+1}C.h5', options=save_locally,\n",
        "                                    monitor='val_loss', verbose=VERBOSE,\n",
        "                                    save_best_only=True, mode='min')\n",
        "\n",
        "        es = EarlyStopping(monitor=\"val_loss\", patience=50,\n",
        "                           verbose=VERBOSE, mode=\"min\",\n",
        "                           restore_best_weights=True)\n",
        "\n",
        "        model.fit(X_train, y_train,\n",
        "                  validation_data=(X_valid, y_valid),\n",
        "                  epochs=400,\n",
        "                  verbose=VERBOSE,\n",
        "                  batch_size=BATCH_SIZE,\n",
        "                  callbacks=[lr, chk_point, es])\n",
        "\n",
        "        load_locally = tf.saved_model.LoadOptions(experimental_io_device='/job:localhost')\n",
        "        model = load_model(f'./Bidirect_LSTM_model_{fold+1}C.h5', options=load_locally)\n",
        "\n",
        "        y_true = y_valid.squeeze().reshape(-1, 1)\n",
        "        y_pred = model.predict(X_valid, batch_size=BATCH_SIZE).squeeze().reshape(-1, 1)\n",
        "        score = mean_absolute_error(y_true, y_pred)\n",
        "        print(f\"Fold-{fold+1} | OOF Score: {score}\")\n",
        "\n",
        "        test_preds.append(model.predict(test, batch_size=BATCH_SIZE).squeeze().reshape(-1, 1).squeeze())"
      ],
      "metadata": {
        "papermill": {
          "duration": 13995.547028,
          "end_time": "2021-10-02T13:56:50.79368",
          "exception": false,
          "start_time": "2021-10-02T10:03:35.246652",
          "status": "completed"
        },
        "tags": [],
        "execution": {
          "iopub.status.busy": "2021-10-21T10:55:47.614251Z",
          "iopub.execute_input": "2021-10-21T10:55:47.614663Z",
          "iopub.status.idle": "2021-10-21T11:02:42.484986Z",
          "shell.execute_reply.started": "2021-10-21T10:55:47.614626Z",
          "shell.execute_reply": "2021-10-21T11:02:42.483621Z"
        },
        "trusted": true,
        "colab": {
          "base_uri": "https://localhost:8080/",
          "height": 235
        },
        "id": "Kixx27GMPXdA",
        "outputId": "e7fc8242-9c55-4787-af9c-ff6c299dff67"
      },
      "execution_count": null,
      "outputs": [
        {
          "output_type": "error",
          "ename": "NameError",
          "evalue": "ignored",
          "traceback": [
            "\u001b[0;31m---------------------------------------------------------------------------\u001b[0m",
            "\u001b[0;31mNameError\u001b[0m                                 Traceback (most recent call last)",
            "\u001b[0;32m<ipython-input-17-b5ed4b2c796d>\u001b[0m in \u001b[0;36m<module>\u001b[0;34m\u001b[0m\n\u001b[0;32m----> 1\u001b[0;31m \u001b[0;32mwith\u001b[0m \u001b[0mtpu_strategy\u001b[0m\u001b[0;34m.\u001b[0m\u001b[0mscope\u001b[0m\u001b[0;34m(\u001b[0m\u001b[0;34m)\u001b[0m\u001b[0;34m:\u001b[0m\u001b[0;34m\u001b[0m\u001b[0;34m\u001b[0m\u001b[0m\n\u001b[0m\u001b[1;32m      2\u001b[0m \u001b[0;34m\u001b[0m\u001b[0m\n\u001b[1;32m      3\u001b[0m     \u001b[0mVERBOSE\u001b[0m \u001b[0;34m=\u001b[0m \u001b[0;36m0\u001b[0m\u001b[0;34m\u001b[0m\u001b[0;34m\u001b[0m\u001b[0m\n\u001b[1;32m      4\u001b[0m     \u001b[0mtest_preds\u001b[0m \u001b[0;34m=\u001b[0m \u001b[0;34m[\u001b[0m\u001b[0;34m]\u001b[0m\u001b[0;34m\u001b[0m\u001b[0;34m\u001b[0m\u001b[0m\n\u001b[1;32m      5\u001b[0m     \u001b[0mkf\u001b[0m \u001b[0;34m=\u001b[0m \u001b[0mKFold\u001b[0m\u001b[0;34m(\u001b[0m\u001b[0mn_splits\u001b[0m\u001b[0;34m=\u001b[0m\u001b[0;36m7\u001b[0m\u001b[0;34m,\u001b[0m \u001b[0mshuffle\u001b[0m\u001b[0;34m=\u001b[0m\u001b[0;32mTrue\u001b[0m\u001b[0;34m,\u001b[0m \u001b[0mrandom_state\u001b[0m\u001b[0;34m=\u001b[0m\u001b[0;36m2021\u001b[0m\u001b[0;34m)\u001b[0m\u001b[0;34m\u001b[0m\u001b[0;34m\u001b[0m\u001b[0m\n",
            "\u001b[0;31mNameError\u001b[0m: name 'tpu_strategy' is not defined"
          ]
        }
      ]
    },
    {
      "cell_type": "code",
      "source": [
        "for i in range(7):\n",
        "    print(test_preds[i][0])\n",
        "\n",
        "len(test_preds)"
      ],
      "metadata": {
        "execution": {
          "iopub.status.busy": "2021-10-21T10:54:08.126662Z",
          "iopub.status.idle": "2021-10-21T10:54:08.126996Z",
          "shell.execute_reply.started": "2021-10-21T10:54:08.126831Z",
          "shell.execute_reply": "2021-10-21T10:54:08.126847Z"
        },
        "trusted": true,
        "id": "TEex8ebFPXdE"
      },
      "execution_count": null,
      "outputs": []
    },
    {
      "cell_type": "markdown",
      "source": [
        "## Create submission file"
      ],
      "metadata": {
        "papermill": {
          "duration": 0.028835,
          "end_time": "2021-10-02T13:56:50.851574",
          "exception": false,
          "start_time": "2021-10-02T13:56:50.822739",
          "status": "completed"
        },
        "tags": [],
        "id": "8MoXP0TmPXdG"
      }
    },
    {
      "cell_type": "code",
      "source": [
        "submission = pd.read_csv('../input/ventilator-pressure-prediction/sample_submission.csv')\n",
        "submission[\"pressure\"] = sum(test_preds)/7\n",
        "submission.to_csv('mean_submission.csv', index=False)"
      ],
      "metadata": {
        "papermill": {
          "duration": 13.347103,
          "end_time": "2021-10-02T13:57:04.227112",
          "exception": false,
          "start_time": "2021-10-02T13:56:50.880009",
          "status": "completed"
        },
        "tags": [],
        "execution": {
          "iopub.status.busy": "2021-10-21T10:54:08.127916Z",
          "iopub.status.idle": "2021-10-21T10:54:08.128205Z",
          "shell.execute_reply.started": "2021-10-21T10:54:08.128059Z",
          "shell.execute_reply": "2021-10-21T10:54:08.128073Z"
        },
        "trusted": true,
        "id": "bWINJJhwPXdI"
      },
      "execution_count": null,
      "outputs": []
    }
  ]
}